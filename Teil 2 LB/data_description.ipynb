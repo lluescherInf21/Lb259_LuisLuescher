{
 "cells": [
  {
   "cell_type": "code",
   "execution_count": 2,
   "id": "2af074ea",
   "metadata": {},
   "outputs": [
    {
     "name": "stdout",
     "output_type": "stream",
     "text": [
      "Collecting pandas\n",
      "  Downloading pandas-1.4.1-cp310-cp310-win_amd64.whl (10.6 MB)\n",
      "     --------------------------------------- 10.6/10.6 MB 17.7 MB/s eta 0:00:00\n",
      "Requirement already satisfied: python-dateutil>=2.8.1 in c:\\python\\lib\\site-packages (from pandas) (2.8.2)\n",
      "Collecting pytz>=2020.1\n",
      "  Downloading pytz-2022.1-py2.py3-none-any.whl (503 kB)\n",
      "     ------------------------------------- 503.5/503.5 KB 30.8 MB/s eta 0:00:00\n",
      "Collecting numpy>=1.21.0\n",
      "  Downloading numpy-1.22.3-cp310-cp310-win_amd64.whl (14.7 MB)\n",
      "     --------------------------------------- 14.7/14.7 MB 34.4 MB/s eta 0:00:00\n",
      "Requirement already satisfied: six>=1.5 in c:\\python\\lib\\site-packages (from python-dateutil>=2.8.1->pandas) (1.16.0)\n",
      "Installing collected packages: pytz, numpy, pandas\n",
      "Successfully installed numpy-1.22.3 pandas-1.4.1 pytz-2022.1\n"
     ]
    }
   ],
   "source": [
    "!pip install pandas"
   ]
  },
  {
   "cell_type": "code",
   "execution_count": null,
   "id": "5e6870a6",
   "metadata": {},
   "outputs": [],
   "source": [
    "2.1 Ich möchte Vorhersagen welche Spieler auf welcher Position spielen für das brauche ich die Grösse und das Gewicht des Spielers\n"
   ]
  },
  {
   "cell_type": "code",
   "execution_count": 4,
   "id": "5c78b08c",
   "metadata": {},
   "outputs": [],
   "source": [
    "import pandas as pd\n",
    "\n",
    "\n",
    "Fifa_Datenset = pd.read_csv(\"Fifa_Datensatz_cleaned.CSV\", on_bad_lines= 'skip', sep= ';')"
   ]
  },
  {
   "cell_type": "code",
   "execution_count": 5,
   "id": "e86b1066",
   "metadata": {},
   "outputs": [
    {
     "name": "stdout",
     "output_type": "stream",
     "text": [
      "<class 'pandas.core.frame.DataFrame'>\n",
      "RangeIndex: 17954 entries, 0 to 17953\n",
      "Data columns (total 13 columns):\n",
      " #   Column            Non-Null Count  Dtype  \n",
      "---  ------            --------------  -----  \n",
      " 0   id                17954 non-null  int64  \n",
      " 1   name              17954 non-null  object \n",
      " 2   full_name         17954 non-null  object \n",
      " 3   birth_date        17954 non-null  object \n",
      " 4   height_cm         17954 non-null  float64\n",
      " 5   weight_kgs        17954 non-null  float64\n",
      " 6   positions         17954 non-null  object \n",
      " 7   nationality       17954 non-null  object \n",
      " 8   overall_rating    17954 non-null  int64  \n",
      " 9   preferred_foot    17954 non-null  object \n",
      " 10  weak_foot(1-5)    17954 non-null  int64  \n",
      " 11  skill_moves(1-5)  17954 non-null  int64  \n",
      " 12  club_team         17940 non-null  object \n",
      "dtypes: float64(2), int64(4), object(7)\n",
      "memory usage: 1.8+ MB\n"
     ]
    }
   ],
   "source": [
    "Fifa_Datenset.info()"
   ]
  },
  {
   "cell_type": "code",
   "execution_count": 47,
   "id": "b6fe08e7",
   "metadata": {},
   "outputs": [
    {
     "data": {
      "text/html": [
       "<div>\n",
       "<style scoped>\n",
       "    .dataframe tbody tr th:only-of-type {\n",
       "        vertical-align: middle;\n",
       "    }\n",
       "\n",
       "    .dataframe tbody tr th {\n",
       "        vertical-align: top;\n",
       "    }\n",
       "\n",
       "    .dataframe thead th {\n",
       "        text-align: right;\n",
       "    }\n",
       "</style>\n",
       "<table border=\"1\" class=\"dataframe\">\n",
       "  <thead>\n",
       "    <tr style=\"text-align: right;\">\n",
       "      <th></th>\n",
       "      <th>id</th>\n",
       "      <th>name</th>\n",
       "      <th>full_name</th>\n",
       "      <th>birth_date</th>\n",
       "      <th>height_cm</th>\n",
       "      <th>weight_kgs</th>\n",
       "      <th>positions</th>\n",
       "      <th>nationality</th>\n",
       "      <th>overall_rating</th>\n",
       "      <th>preferred_foot</th>\n",
       "      <th>weak_foot(1-5)</th>\n",
       "      <th>skill_moves(1-5)</th>\n",
       "      <th>club_team</th>\n",
       "    </tr>\n",
       "  </thead>\n",
       "  <tbody>\n",
       "    <tr>\n",
       "      <th>0</th>\n",
       "      <td>158023</td>\n",
       "      <td>L. Messi</td>\n",
       "      <td>Lionel Andrés Messi Cuccittini</td>\n",
       "      <td>24.06.1987</td>\n",
       "      <td>170.18</td>\n",
       "      <td>72.1</td>\n",
       "      <td>CF</td>\n",
       "      <td>Argentina</td>\n",
       "      <td>94</td>\n",
       "      <td>Left</td>\n",
       "      <td>4</td>\n",
       "      <td>4</td>\n",
       "      <td>FC Barcelona</td>\n",
       "    </tr>\n",
       "    <tr>\n",
       "      <th>1</th>\n",
       "      <td>190460</td>\n",
       "      <td>C. Eriksen</td>\n",
       "      <td>Christian  Dannemann Eriksen</td>\n",
       "      <td>14.02.1992</td>\n",
       "      <td>154.94</td>\n",
       "      <td>76.2</td>\n",
       "      <td>CAM</td>\n",
       "      <td>Denmark</td>\n",
       "      <td>88</td>\n",
       "      <td>Right</td>\n",
       "      <td>5</td>\n",
       "      <td>4</td>\n",
       "      <td>Tottenham Hotspur</td>\n",
       "    </tr>\n",
       "    <tr>\n",
       "      <th>2</th>\n",
       "      <td>195864</td>\n",
       "      <td>P. Pogba</td>\n",
       "      <td>Paul Pogba</td>\n",
       "      <td>15.03.1993</td>\n",
       "      <td>190.50</td>\n",
       "      <td>83.9</td>\n",
       "      <td>CM</td>\n",
       "      <td>France</td>\n",
       "      <td>88</td>\n",
       "      <td>Right</td>\n",
       "      <td>4</td>\n",
       "      <td>5</td>\n",
       "      <td>Manchester United</td>\n",
       "    </tr>\n",
       "    <tr>\n",
       "      <th>3</th>\n",
       "      <td>198219</td>\n",
       "      <td>L. Insigne</td>\n",
       "      <td>Lorenzo Insigne</td>\n",
       "      <td>04.06.1991</td>\n",
       "      <td>162.56</td>\n",
       "      <td>59.0</td>\n",
       "      <td>LW</td>\n",
       "      <td>Italy</td>\n",
       "      <td>88</td>\n",
       "      <td>Right</td>\n",
       "      <td>4</td>\n",
       "      <td>4</td>\n",
       "      <td>Napoli</td>\n",
       "    </tr>\n",
       "    <tr>\n",
       "      <th>4</th>\n",
       "      <td>201024</td>\n",
       "      <td>K. Koulibaly</td>\n",
       "      <td>Kalidou Koulibaly</td>\n",
       "      <td>20.06.1991</td>\n",
       "      <td>187.96</td>\n",
       "      <td>88.9</td>\n",
       "      <td>CB</td>\n",
       "      <td>Senegal</td>\n",
       "      <td>88</td>\n",
       "      <td>Right</td>\n",
       "      <td>3</td>\n",
       "      <td>2</td>\n",
       "      <td>Napoli</td>\n",
       "    </tr>\n",
       "    <tr>\n",
       "      <th>5</th>\n",
       "      <td>203376</td>\n",
       "      <td>V. van Dijk</td>\n",
       "      <td>Virgil van Dijk</td>\n",
       "      <td>08.07.1991</td>\n",
       "      <td>193.04</td>\n",
       "      <td>92.1</td>\n",
       "      <td>CB</td>\n",
       "      <td>Netherlands</td>\n",
       "      <td>88</td>\n",
       "      <td>Right</td>\n",
       "      <td>3</td>\n",
       "      <td>2</td>\n",
       "      <td>Liverpool</td>\n",
       "    </tr>\n",
       "    <tr>\n",
       "      <th>6</th>\n",
       "      <td>231747</td>\n",
       "      <td>K. Mbappé</td>\n",
       "      <td>Kylian Mbappé</td>\n",
       "      <td>20.12.1998</td>\n",
       "      <td>152.40</td>\n",
       "      <td>73.0</td>\n",
       "      <td>RW</td>\n",
       "      <td>France</td>\n",
       "      <td>88</td>\n",
       "      <td>Right</td>\n",
       "      <td>4</td>\n",
       "      <td>5</td>\n",
       "      <td>Paris Saint-Germain</td>\n",
       "    </tr>\n",
       "    <tr>\n",
       "      <th>7</th>\n",
       "      <td>153079</td>\n",
       "      <td>S. Agüero</td>\n",
       "      <td>Sergio Leonel Agüero del Castillo</td>\n",
       "      <td>02.06.1988</td>\n",
       "      <td>172.72</td>\n",
       "      <td>69.9</td>\n",
       "      <td>ST</td>\n",
       "      <td>Argentina</td>\n",
       "      <td>89</td>\n",
       "      <td>Right</td>\n",
       "      <td>4</td>\n",
       "      <td>4</td>\n",
       "      <td>Manchester City</td>\n",
       "    </tr>\n",
       "    <tr>\n",
       "      <th>8</th>\n",
       "      <td>167495</td>\n",
       "      <td>M. Neuer</td>\n",
       "      <td>Manuel Neuer</td>\n",
       "      <td>27.03.1986</td>\n",
       "      <td>193.04</td>\n",
       "      <td>92.1</td>\n",
       "      <td>GK</td>\n",
       "      <td>Germany</td>\n",
       "      <td>89</td>\n",
       "      <td>Right</td>\n",
       "      <td>4</td>\n",
       "      <td>1</td>\n",
       "      <td>FC Bayern München</td>\n",
       "    </tr>\n",
       "    <tr>\n",
       "      <th>9</th>\n",
       "      <td>179813</td>\n",
       "      <td>E. Cavani</td>\n",
       "      <td>Edinson Roberto Cavani Gómez</td>\n",
       "      <td>14.02.1987</td>\n",
       "      <td>185.42</td>\n",
       "      <td>77.1</td>\n",
       "      <td>ST</td>\n",
       "      <td>Uruguay</td>\n",
       "      <td>89</td>\n",
       "      <td>Right</td>\n",
       "      <td>4</td>\n",
       "      <td>3</td>\n",
       "      <td>Paris Saint-Germain</td>\n",
       "    </tr>\n",
       "  </tbody>\n",
       "</table>\n",
       "</div>"
      ],
      "text/plain": [
       "       id          name                          full_name  birth_date  \\\n",
       "0  158023      L. Messi     Lionel Andrés Messi Cuccittini  24.06.1987   \n",
       "1  190460    C. Eriksen       Christian  Dannemann Eriksen  14.02.1992   \n",
       "2  195864      P. Pogba                         Paul Pogba  15.03.1993   \n",
       "3  198219    L. Insigne                    Lorenzo Insigne  04.06.1991   \n",
       "4  201024  K. Koulibaly                  Kalidou Koulibaly  20.06.1991   \n",
       "5  203376   V. van Dijk                    Virgil van Dijk  08.07.1991   \n",
       "6  231747     K. Mbappé                      Kylian Mbappé  20.12.1998   \n",
       "7  153079     S. Agüero  Sergio Leonel Agüero del Castillo  02.06.1988   \n",
       "8  167495      M. Neuer                       Manuel Neuer  27.03.1986   \n",
       "9  179813     E. Cavani       Edinson Roberto Cavani Gómez  14.02.1987   \n",
       "\n",
       "   height_cm  weight_kgs positions  nationality  overall_rating  \\\n",
       "0     170.18        72.1        CF    Argentina              94   \n",
       "1     154.94        76.2       CAM      Denmark              88   \n",
       "2     190.50        83.9        CM       France              88   \n",
       "3     162.56        59.0        LW        Italy              88   \n",
       "4     187.96        88.9        CB      Senegal              88   \n",
       "5     193.04        92.1        CB  Netherlands              88   \n",
       "6     152.40        73.0        RW       France              88   \n",
       "7     172.72        69.9        ST    Argentina              89   \n",
       "8     193.04        92.1        GK      Germany              89   \n",
       "9     185.42        77.1        ST      Uruguay              89   \n",
       "\n",
       "  preferred_foot  weak_foot(1-5)  skill_moves(1-5)            club_team  \n",
       "0           Left               4                 4         FC Barcelona  \n",
       "1          Right               5                 4    Tottenham Hotspur  \n",
       "2          Right               4                 5    Manchester United  \n",
       "3          Right               4                 4               Napoli  \n",
       "4          Right               3                 2               Napoli  \n",
       "5          Right               3                 2            Liverpool  \n",
       "6          Right               4                 5  Paris Saint-Germain  \n",
       "7          Right               4                 4      Manchester City  \n",
       "8          Right               4                 1    FC Bayern München  \n",
       "9          Right               4                 3  Paris Saint-Germain  "
      ]
     },
     "execution_count": 47,
     "metadata": {},
     "output_type": "execute_result"
    }
   ],
   "source": [
    "Fifa_Datenset.head(10)"
   ]
  },
  {
   "cell_type": "code",
   "execution_count": 21,
   "id": "d88c3f37",
   "metadata": {},
   "outputs": [
    {
     "data": {
      "text/plain": [
       "74.8"
      ]
     },
     "execution_count": 21,
     "metadata": {},
     "output_type": "execute_result"
    }
   ],
   "source": [
    "Fifa_Datenset[\"weight_kgs\"].median()"
   ]
  },
  {
   "cell_type": "code",
   "execution_count": 22,
   "id": "81d0d462",
   "metadata": {},
   "outputs": [
    {
     "data": {
      "text/plain": [
       "182.88    2838\n",
       "152.40    2416\n",
       "175.26    2220\n",
       "154.94    2094\n",
       "187.96    1993\n",
       "185.42    1909\n",
       "190.50    1018\n",
       "172.72     930\n",
       "170.18     888\n",
       "193.04     760\n",
       "167.64     320\n",
       "195.58     255\n",
       "165.10     136\n",
       "198.12      97\n",
       "162.56      31\n",
       "200.66      20\n",
       "160.02      14\n",
       "203.20       9\n",
       "157.48       5\n",
       "205.74       1\n",
       "Name: height_cm, dtype: int64"
      ]
     },
     "execution_count": 22,
     "metadata": {},
     "output_type": "execute_result"
    }
   ],
   "source": [
    "Fifa_Datenset[\"height_cm\"].value_counts()"
   ]
  },
  {
   "cell_type": "code",
   "execution_count": 28,
   "id": "4d52e81b",
   "metadata": {},
   "outputs": [
    {
     "name": "stdout",
     "output_type": "stream",
     "text": [
      "Requirement already satisfied: matplotlib in c:\\python\\lib\\site-packages (3.5.1)\n",
      "Requirement already satisfied: packaging>=20.0 in c:\\python\\lib\\site-packages (from matplotlib) (21.3)\n",
      "Requirement already satisfied: kiwisolver>=1.0.1 in c:\\python\\lib\\site-packages (from matplotlib) (1.4.1)\n",
      "Requirement already satisfied: cycler>=0.10 in c:\\python\\lib\\site-packages (from matplotlib) (0.11.0)\n",
      "Requirement already satisfied: pillow>=6.2.0 in c:\\python\\lib\\site-packages (from matplotlib) (9.0.1)\n",
      "Requirement already satisfied: pyparsing>=2.2.1 in c:\\python\\lib\\site-packages (from matplotlib) (3.0.7)\n",
      "Requirement already satisfied: numpy>=1.17 in c:\\python\\lib\\site-packages (from matplotlib) (1.22.3)\n",
      "Requirement already satisfied: python-dateutil>=2.7 in c:\\python\\lib\\site-packages (from matplotlib) (2.8.2)\n",
      "Requirement already satisfied: fonttools>=4.22.0 in c:\\python\\lib\\site-packages (from matplotlib) (4.31.2)\n",
      "Requirement already satisfied: six>=1.5 in c:\\python\\lib\\site-packages (from python-dateutil>=2.7->matplotlib) (1.16.0)\n"
     ]
    }
   ],
   "source": [
    "!pip install matplotlib"
   ]
  },
  {
   "cell_type": "code",
   "execution_count": 33,
   "id": "f807f03e",
   "metadata": {},
   "outputs": [],
   "source": [
    "import matplotlib.pyplot as plt"
   ]
  },
  {
   "cell_type": "code",
   "execution_count": 42,
   "id": "2e6f6135",
   "metadata": {},
   "outputs": [
    {
     "data": {
      "text/plain": [
       "Text(0, 0.5, 'Count')"
      ]
     },
     "execution_count": 42,
     "metadata": {},
     "output_type": "execute_result"
    },
    {
     "data": {
      "image/png": "[encoded data removed]",
      "text/plain": [
       "<Figure size 432x288 with 1 Axes>"
      ]
     },
     "metadata": {
      "needs_background": "light"
     },
     "output_type": "display_data"
    }
   ],
   "source": [
    "plt.hist(Fifa_Datenset[\"weight_kgs\"].dropna(), bins=range(50,100,2))\n",
    "plt.title(\"Weight\")\n",
    "plt.xlabel(\"Weight in kgs\")\n",
    "plt.ylabel(\"Count\")"
   ]
  },
  {
   "cell_type": "code",
   "execution_count": 44,
   "id": "470445f4",
   "metadata": {},
   "outputs": [
    {
     "data": {
      "text/plain": [
       "<matplotlib.collections.PathCollection at 0x1c343d97af0>"
      ]
     },
     "execution_count": 44,
     "metadata": {},
     "output_type": "execute_result"
    },
    {
     "data": {
      "image/png": "[encoded data removed]",
      "text/plain": [
       "<Figure size 432x288 with 1 Axes>"
      ]
     },
     "metadata": {
      "needs_background": "light"
     },
     "output_type": "display_data"
    }
   ],
   "source": [
    "plt.scatter(Fifa_Datenset[\"height_cm\"], Fifa_Datenset[\"weight_kgs\"], 2)"
   ]
  },
  {
   "cell_type": "code",
   "execution_count": null,
   "id": "00f6a4b5",
   "metadata": {},
   "outputs": [],
   "source": [
    "2.4 Ich brauche die Werte, mit denen ich arbeite(Grösse & Gewicht) nicht skaliert . \n",
    "Eine Skalierung macht in meinem Fall den ich habe auch kein Sinn denn, ich brauche alle meine Werte genau und in der originalen Form\n",
    "darum werde ich die oben erwähnten Werte(Grösse & Gewicht) nicht skalieren. "
   ]
  }
 ],
 "metadata": {
  "kernelspec": {
   "display_name": "Python 3 (ipykernel)",
   "language": "python",
   "name": "python3"
  },
  "language_info": {
   "codemirror_mode": {
    "name": "ipython",
    "version": 3
   },
   "file_extension": ".py",
   "mimetype": "text/x-python",
   "name": "python",
   "nbconvert_exporter": "python",
   "pygments_lexer": "ipython3",
   "version": "3.10.2"
  }
 },
 "nbformat": 4,
 "nbformat_minor": 5
}
