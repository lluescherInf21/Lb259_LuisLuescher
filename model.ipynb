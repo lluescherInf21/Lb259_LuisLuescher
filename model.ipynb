{
 "cells": [
  {
   "cell_type": "markdown",
   "id": "1d451a1a",
   "metadata": {},
   "source": [
    "2.1 Ich möchte Vorhersagen welche Spieler auf welcher Position spielen für das brauche ich die Grösse das Gewicht und die Skill_Moves(1-5) des Spielers"
   ]
  },
  {
   "cell_type": "code",
   "execution_count": 1,
   "id": "c0b6ed13",
   "metadata": {},
   "outputs": [],
   "source": [
    "import pandas as pd\n",
    "\n",
    "\n",
    "Fifa_Datenset = pd.read_csv(\"Fifa_Datensatz_cleaned.CSV\", on_bad_lines= 'skip', sep= ';')"
   ]
  },
  {
   "cell_type": "code",
   "execution_count": 2,
   "id": "61bb431a",
   "metadata": {},
   "outputs": [
    {
     "data": {
      "text/html": [
       "<div>\n",
       "<style scoped>\n",
       "    .dataframe tbody tr th:only-of-type {\n",
       "        vertical-align: middle;\n",
       "    }\n",
       "\n",
       "    .dataframe tbody tr th {\n",
       "        vertical-align: top;\n",
       "    }\n",
       "\n",
       "    .dataframe thead th {\n",
       "        text-align: right;\n",
       "    }\n",
       "</style>\n",
       "<table border=\"1\" class=\"dataframe\">\n",
       "  <thead>\n",
       "    <tr style=\"text-align: right;\">\n",
       "      <th></th>\n",
       "      <th>height_cm</th>\n",
       "      <th>weight_kgs</th>\n",
       "      <th>skill_moves(1-5)</th>\n",
       "    </tr>\n",
       "  </thead>\n",
       "  <tbody>\n",
       "    <tr>\n",
       "      <th>0</th>\n",
       "      <td>170.18</td>\n",
       "      <td>72.1</td>\n",
       "      <td>4</td>\n",
       "    </tr>\n",
       "    <tr>\n",
       "      <th>1</th>\n",
       "      <td>154.94</td>\n",
       "      <td>76.2</td>\n",
       "      <td>4</td>\n",
       "    </tr>\n",
       "    <tr>\n",
       "      <th>2</th>\n",
       "      <td>190.50</td>\n",
       "      <td>83.9</td>\n",
       "      <td>5</td>\n",
       "    </tr>\n",
       "    <tr>\n",
       "      <th>3</th>\n",
       "      <td>162.56</td>\n",
       "      <td>59.0</td>\n",
       "      <td>4</td>\n",
       "    </tr>\n",
       "    <tr>\n",
       "      <th>4</th>\n",
       "      <td>187.96</td>\n",
       "      <td>88.9</td>\n",
       "      <td>2</td>\n",
       "    </tr>\n",
       "    <tr>\n",
       "      <th>5</th>\n",
       "      <td>193.04</td>\n",
       "      <td>92.1</td>\n",
       "      <td>2</td>\n",
       "    </tr>\n",
       "    <tr>\n",
       "      <th>6</th>\n",
       "      <td>152.40</td>\n",
       "      <td>73.0</td>\n",
       "      <td>5</td>\n",
       "    </tr>\n",
       "    <tr>\n",
       "      <th>7</th>\n",
       "      <td>172.72</td>\n",
       "      <td>69.9</td>\n",
       "      <td>4</td>\n",
       "    </tr>\n",
       "    <tr>\n",
       "      <th>8</th>\n",
       "      <td>193.04</td>\n",
       "      <td>92.1</td>\n",
       "      <td>1</td>\n",
       "    </tr>\n",
       "    <tr>\n",
       "      <th>9</th>\n",
       "      <td>185.42</td>\n",
       "      <td>77.1</td>\n",
       "      <td>3</td>\n",
       "    </tr>\n",
       "  </tbody>\n",
       "</table>\n",
       "</div>"
      ],
      "text/plain": [
       "   height_cm  weight_kgs  skill_moves(1-5)\n",
       "0     170.18        72.1                 4\n",
       "1     154.94        76.2                 4\n",
       "2     190.50        83.9                 5\n",
       "3     162.56        59.0                 4\n",
       "4     187.96        88.9                 2\n",
       "5     193.04        92.1                 2\n",
       "6     152.40        73.0                 5\n",
       "7     172.72        69.9                 4\n",
       "8     193.04        92.1                 1\n",
       "9     185.42        77.1                 3"
      ]
     },
     "execution_count": 2,
     "metadata": {},
     "output_type": "execute_result"
    }
   ],
   "source": [
    "X = Fifa_Datenset[[\"height_cm\", \"weight_kgs\", \"skill_moves(1-5)\" ]]\n",
    "y = Fifa_Datenset[[\"positions\"]]\n",
    "X.head(10)"
   ]
  },
  {
   "cell_type": "code",
   "execution_count": 3,
   "id": "f0eda33a",
   "metadata": {},
   "outputs": [
    {
     "data": {
      "text/plain": [
       "(14363, 3591)"
      ]
     },
     "execution_count": 3,
     "metadata": {},
     "output_type": "execute_result"
    }
   ],
   "source": [
    "from sklearn.model_selection import train_test_split\n",
    "\n",
    "X_train, X_test, y_train, y_test = train_test_split(\n",
    "   X, y, test_size = 0.2, random_state = 42\n",
    ")\n",
    "\n",
    "len(X_train), len(X_test)"
   ]
  },
  {
   "cell_type": "code",
   "execution_count": 4,
   "id": "8262908f",
   "metadata": {},
   "outputs": [
    {
     "name": "stdout",
     "output_type": "stream",
     "text": [
      "Nearest Neighbors 0.71\n",
      "Stochastic Gradient Descent 0.7\n",
      "Linear SVM 0.75\n",
      "Decision Tree 0.76\n",
      "Random Forest 0.76\n",
      "Neural Net 0.76\n",
      "Naive Bayes 0.72\n",
      "LDA 0.75\n"
     ]
    }
   ],
   "source": [
    "from sklearn.neural_network import MLPClassifier\n",
    "from sklearn.neighbors import KNeighborsClassifier\n",
    "from sklearn.linear_model import SGDClassifier\n",
    "from sklearn.svm import SVC\n",
    "from sklearn.tree import DecisionTreeClassifier\n",
    "from sklearn.ensemble import RandomForestClassifier\n",
    "from sklearn.naive_bayes import GaussianNB\n",
    "from sklearn.discriminant_analysis import LinearDiscriminantAnalysis\n",
    "\n",
    "algorithms = {\n",
    "    \"Nearest Neighbors\" : KNeighborsClassifier(3),\n",
    "    \"Stochastic Gradient Descent\" : SGDClassifier(),\n",
    "    \"Linear SVM\" : SVC(kernel=\"linear\", C=0.025),\n",
    "    \"Decision Tree\" : DecisionTreeClassifier(max_depth=5),\n",
    "    \"Random Forest\" : RandomForestClassifier(max_depth=5, n_estimators=10, max_features=1),\n",
    "    \"Neural Net\" : MLPClassifier(alpha=1, max_iter=1000),\n",
    "    \"Naive Bayes\" : GaussianNB(),\n",
    "    \"LDA\" : LinearDiscriminantAnalysis(),\n",
    "}\n",
    "\n",
    "\n",
    "for name, algorithm in algorithms.items():\n",
    "\n",
    "    algorithm.fit(X_train, y_train.values.ravel())\n",
    "\n",
    "    score = algorithm.score(X_test, y_test)\n",
    "    print(name, round(score,2))"
   ]
  },
  {
   "cell_type": "code",
   "execution_count": 5,
   "id": "4a1ebace",
   "metadata": {},
   "outputs": [
    {
     "data": {
      "text/plain": [
       "DecisionTreeClassifier(max_depth=5)"
      ]
     },
     "execution_count": 5,
     "metadata": {},
     "output_type": "execute_result"
    }
   ],
   "source": [
    "import joblib\n",
    "joblib.dump(algorithms[\"Decision Tree\"], 'Fifa_Datenset_decision_tree.joblib')\n",
    "best_model = joblib.load('Fifa_Datenset_decision_tree.joblib')\n",
    "best_model"
   ]
  },
  {
   "cell_type": "markdown",
   "id": "1717aea8",
   "metadata": {},
   "source": [
    "3.2 ich habe den decision Tree Algorithmus genommen weil der wie ich finde am besten funktioniert ich habe auch den Random Forest und den Neural Net Algorithmus ausprobiert doch ich fand den decision tree am besten geeingent für meine Ausgangslage. Ich habe die Algorithmen auch evaluirt und auch da ist bei dem decision Tree mit das beste Resultat herausgekommen."
   ]
  },
  {
   "cell_type": "code",
   "execution_count": 6,
   "id": "e885cce7",
   "metadata": {},
   "outputs": [
    {
     "data": {
      "text/html": [
       "<div>\n",
       "<style scoped>\n",
       "    .dataframe tbody tr th:only-of-type {\n",
       "        vertical-align: middle;\n",
       "    }\n",
       "\n",
       "    .dataframe tbody tr th {\n",
       "        vertical-align: top;\n",
       "    }\n",
       "\n",
       "    .dataframe thead th {\n",
       "        text-align: right;\n",
       "    }\n",
       "</style>\n",
       "<table border=\"1\" class=\"dataframe\">\n",
       "  <thead>\n",
       "    <tr style=\"text-align: right;\">\n",
       "      <th></th>\n",
       "      <th>0</th>\n",
       "      <th>1</th>\n",
       "      <th>2</th>\n",
       "    </tr>\n",
       "  </thead>\n",
       "  <tbody>\n",
       "    <tr>\n",
       "      <th>0</th>\n",
       "      <td>170.18</td>\n",
       "      <td>72.1</td>\n",
       "      <td>4</td>\n",
       "    </tr>\n",
       "    <tr>\n",
       "      <th>0</th>\n",
       "      <td>187.96</td>\n",
       "      <td>84.8</td>\n",
       "      <td>2</td>\n",
       "    </tr>\n",
       "  </tbody>\n",
       "</table>\n",
       "</div>"
      ],
      "text/plain": [
       "        0     1  2\n",
       "0  170.18  72.1  4\n",
       "0  187.96  84.8  2"
      ]
     },
     "execution_count": 6,
     "metadata": {},
     "output_type": "execute_result"
    }
   ],
   "source": [
    "Messi = pd.DataFrame([[170.18, 72.1, 4]])\n",
    "Messi.head()\n",
    "\n",
    "Chiellini = pd.DataFrame([[187.96, 84.8, 2]])\n",
    "Chiellini.head()\n",
    "\n",
    "Players = pd.concat([Messi, Chiellini])\n",
    "Players.head()"
   ]
  },
  {
   "cell_type": "code",
   "execution_count": 7,
   "id": "c177e945",
   "metadata": {},
   "outputs": [
    {
     "name": "stdout",
     "output_type": "stream",
     "text": [
      "Messi ist ein offensiver Spieler\n",
      "Chiellini ist ein defensiver Spieler\n"
     ]
    },
    {
     "name": "stderr",
     "output_type": "stream",
     "text": [
      "C:\\Python\\lib\\site-packages\\sklearn\\base.py:450: UserWarning: X does not have valid feature names, but DecisionTreeClassifier was fitted with feature names\n",
      "  warnings.warn(\n"
     ]
    }
   ],
   "source": [
    "predictions = best_model.predict(pd.concat([Messi, Chiellini]))\n",
    "for person, prediction in zip([\"Messi\", \"Chiellini\"], predictions):\n",
    "    print(f\"{person} {'ist ein offensiver Spieler' if prediction == 0 else 'ist ein defensiver Spieler'}\")"
   ]
  },
  {
   "cell_type": "markdown",
   "id": "14a13b08",
   "metadata": {},
   "source": [
    "3.3 Wie Sie oben sehen klappt der Algorithmus grundsätzlich ich habe die Daten von Messi und Chillieni von der Datenbank übernommen und es ist das richtige Resultat herausgekommen. Doch der Algorithmus funktioniert nicht bei jedem Beispiel denn der Unterschied zwischen den offensiven und den devensiven Spielern in der Grösse und in dem Gewicht ist nicht riesig und darum kann der algorithmus nicht immer stimmen. Die Skillmoves(1-5) Allerdings sind genauer denn da ist der Unterscheid grösser zwischen offensiven und devensiven Spielern."
   ]
  }
 ],
 "metadata": {
  "kernelspec": {
   "display_name": "Python 3 (ipykernel)",
   "language": "python",
   "name": "python3"
  },
  "language_info": {
   "codemirror_mode": {
    "name": "ipython",
    "version": 3
   },
   "file_extension": ".py",
   "mimetype": "text/x-python",
   "name": "python",
   "nbconvert_exporter": "python",
   "pygments_lexer": "ipython3",
   "version": "3.10.2"
  }
 },
 "nbformat": 4,
 "nbformat_minor": 5
}
