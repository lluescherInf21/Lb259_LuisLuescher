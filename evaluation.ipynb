{
 "cells": [
  {
   "cell_type": "markdown",
   "id": "68029072",
   "metadata": {},
   "source": [
    "4.1 In meinem Modell sind die Skill_moves Daten besonders aussagekräftig weil wenn man die Daten analysiert merkt man das wenn man die Parameter ändert. Wenn man die Grösse und das Gewicht verändert gibt es seltener Veränderungen als wenn man die Skill_moves verändert."
   ]
  },
  {
   "cell_type": "code",
   "execution_count": 2,
   "id": "9473dc61",
   "metadata": {},
   "outputs": [],
   "source": [
    "import pandas as pd\n",
    "\n",
    "\n",
    "Fifa_Datenset = pd.read_csv(\"Fifa_Datensatz_cleaned.CSV\", on_bad_lines= 'skip', sep= ';')"
   ]
  },
  {
   "cell_type": "code",
   "execution_count": 3,
   "id": "7b876df5",
   "metadata": {},
   "outputs": [],
   "source": [
    "X = Fifa_Datenset[[\"height_cm\", \"weight_kgs\", \"skill_moves(1-5)\" ]]\n",
    "y = Fifa_Datenset[[\"positions\"]]"
   ]
  },
  {
   "cell_type": "code",
   "execution_count": 4,
   "id": "bf0edf97",
   "metadata": {},
   "outputs": [
    {
     "data": {
      "text/plain": [
       "(14363, 3591)"
      ]
     },
     "execution_count": 4,
     "metadata": {},
     "output_type": "execute_result"
    }
   ],
   "source": [
    "from sklearn.model_selection import train_test_split\n",
    "\n",
    "X_train, X_test, y_train, y_test = train_test_split(\n",
    "   X, y, test_size = 0.2, random_state = 42\n",
    ")\n",
    "\n",
    "len(X_train), len(X_test)"
   ]
  },
  {
   "cell_type": "code",
   "execution_count": 5,
   "id": "6fa37a25",
   "metadata": {},
   "outputs": [
    {
     "name": "stdout",
     "output_type": "stream",
     "text": [
      "Nearest Neighbors 0.71\n",
      "Stochastic Gradient Descent 0.72\n",
      "Linear SVM 0.75\n",
      "Decision Tree 0.76\n",
      "Random Forest 0.76\n",
      "Neural Net 0.76\n",
      "Naive Bayes 0.72\n",
      "LDA 0.75\n"
     ]
    }
   ],
   "source": [
    "from sklearn.neural_network import MLPClassifier\n",
    "from sklearn.neighbors import KNeighborsClassifier\n",
    "from sklearn.linear_model import SGDClassifier\n",
    "from sklearn.svm import SVC\n",
    "from sklearn.tree import DecisionTreeClassifier\n",
    "from sklearn.ensemble import RandomForestClassifier\n",
    "from sklearn.naive_bayes import GaussianNB\n",
    "from sklearn.discriminant_analysis import LinearDiscriminantAnalysis\n",
    "\n",
    "algorithms = {\n",
    "    \"Nearest Neighbors\" : KNeighborsClassifier(3),\n",
    "    \"Stochastic Gradient Descent\" : SGDClassifier(),\n",
    "    \"Linear SVM\" : SVC(kernel=\"linear\", C=0.025),\n",
    "    \"Decision Tree\" : DecisionTreeClassifier(max_depth=5),\n",
    "    \"Random Forest\" : RandomForestClassifier(max_depth=5, n_estimators=10, max_features=1),\n",
    "    \"Neural Net\" : MLPClassifier(alpha=1, max_iter=1000),\n",
    "    \"Naive Bayes\" : GaussianNB(),\n",
    "    \"LDA\" : LinearDiscriminantAnalysis(),\n",
    "}\n",
    "\n",
    "\n",
    "for name, algorithm in algorithms.items():\n",
    "\n",
    "    algorithm.fit(X_train, y_train.values.ravel())\n",
    "\n",
    "    score = algorithm.score(X_test, y_test)\n",
    "    print(name, round(score,2))"
   ]
  },
  {
   "cell_type": "code",
   "execution_count": 6,
   "id": "317fcd19",
   "metadata": {},
   "outputs": [
    {
     "data": {
      "text/plain": [
       "DecisionTreeClassifier(max_depth=5)"
      ]
     },
     "execution_count": 6,
     "metadata": {},
     "output_type": "execute_result"
    }
   ],
   "source": [
    "import joblib\n",
    "joblib.dump(algorithms[\"Decision Tree\"], 'Fifa_Datenset_decision_tree.joblib')\n",
    "best_model = joblib.load('Fifa_Datenset_decision_tree.joblib')\n",
    "best_model"
   ]
  },
  {
   "cell_type": "markdown",
   "id": "6ce756af",
   "metadata": {},
   "source": [
    "Hier unten finden Sie die Aufgaben 4.2/4.3"
   ]
  },
  {
   "cell_type": "code",
   "execution_count": 16,
   "id": "0462f5b7",
   "metadata": {},
   "outputs": [
    {
     "name": "stderr",
     "output_type": "stream",
     "text": [
      "C:\\Users\\Luis Lüscher\\AppData\\Local\\Temp\\ipykernel_24360\\3630298034.py:3: DataConversionWarning: A column-vector y was passed when a 1d array was expected. Please change the shape of y to (n_samples,), for example using ravel().\n",
      "  best_model.fit(X_train, y_train)\n"
     ]
    }
   ],
   "source": [
    "from sklearn.ensemble import RandomForestRegressor\n",
    "best_model = RandomForestRegressor(max_depth=45, random_state=0)\n",
    "best_model.fit(X_train, y_train)\n",
    "pred = best_model.predict(X_test)"
   ]
  },
  {
   "cell_type": "code",
   "execution_count": 17,
   "id": "2ecce4c5",
   "metadata": {},
   "outputs": [
    {
     "data": {
      "text/plain": [
       "DecisionTreeClassifier()"
      ]
     },
     "execution_count": 17,
     "metadata": {},
     "output_type": "execute_result"
    }
   ],
   "source": [
    "from sklearn.tree import DecisionTreeClassifier\n",
    "\n",
    "logreg = DecisionTreeClassifier()\n",
    "\n",
    "logreg.fit(X_train, y_train)"
   ]
  },
  {
   "cell_type": "code",
   "execution_count": 18,
   "id": "08c01cd3",
   "metadata": {},
   "outputs": [],
   "source": [
    "y_pred_class = logreg.predict(X_test)"
   ]
  },
  {
   "cell_type": "code",
   "execution_count": 19,
   "id": "637627d0",
   "metadata": {},
   "outputs": [
    {
     "name": "stdout",
     "output_type": "stream",
     "text": [
      "0.7529935950988582\n"
     ]
    }
   ],
   "source": [
    "from sklearn import metrics\n",
    "print(metrics.accuracy_score(y_test, y_pred_class))"
   ]
  },
  {
   "cell_type": "code",
   "execution_count": 20,
   "id": "bbc6eaab",
   "metadata": {},
   "outputs": [
    {
     "name": "stdout",
     "output_type": "stream",
     "text": [
      "[[1308  409]\n",
      " [ 478 1396]]\n"
     ]
    }
   ],
   "source": [
    "print(metrics.confusion_matrix(y_test, y_pred_class))"
   ]
  },
  {
   "cell_type": "code",
   "execution_count": 21,
   "id": "86e089c4",
   "metadata": {},
   "outputs": [
    {
     "name": "stdout",
     "output_type": "stream",
     "text": [
      "[[1308  409]\n",
      " [ 478 1396]]\n"
     ]
    }
   ],
   "source": [
    "confusion = metrics.confusion_matrix(y_test, y_pred_class)\n",
    "print(confusion)\n",
    "TP = confusion[1, 1]\n",
    "TN = confusion[0, 0]\n",
    "FP = confusion[0, 1]\n",
    "FN = confusion[1, 0]"
   ]
  },
  {
   "cell_type": "code",
   "execution_count": 22,
   "id": "ff0009c0",
   "metadata": {},
   "outputs": [
    {
     "data": {
      "text/plain": [
       "0.1756905328876404"
      ]
     },
     "execution_count": 22,
     "metadata": {},
     "output_type": "execute_result"
    }
   ],
   "source": [
    "## Das ist meine Messmetrik\n",
    "from sklearn.metrics import mean_squared_error\n",
    "mse = mean_squared_error(y_test, pred)\n",
    "mse"
   ]
  },
  {
   "cell_type": "markdown",
   "id": "82fa1c43",
   "metadata": {},
   "source": [
    "True Positive = 1308, True Negativ =  1396,False Positive = 478, False Negativ = 409\n"
   ]
  },
  {
   "cell_type": "code",
   "execution_count": 23,
   "id": "dbeba522",
   "metadata": {},
   "outputs": [
    {
     "name": "stdout",
     "output_type": "stream",
     "text": [
      "0.7589018755096494\n"
     ]
    }
   ],
   "source": [
    "recall = TP/(TP + FN)\n",
    "precision = TP/(TP + FP)\n",
    "print(2 * recall * precision / (recall + precision))"
   ]
  },
  {
   "cell_type": "code",
   "execution_count": 24,
   "id": "b7593bbe",
   "metadata": {},
   "outputs": [
    {
     "name": "stdout",
     "output_type": "stream",
     "text": [
      "0.7449306296691569\n"
     ]
    }
   ],
   "source": [
    "##Sensitivität \n",
    "sensitivität = TP / float(FN + TP)\n",
    "(sensitivität)\n",
    "print(metrics.recall_score(y_test, y_pred_class))"
   ]
  },
  {
   "cell_type": "code",
   "execution_count": 25,
   "id": "64232072",
   "metadata": {},
   "outputs": [
    {
     "name": "stdout",
     "output_type": "stream",
     "text": [
      "0.7617938264414676\n"
     ]
    }
   ],
   "source": [
    "##Spezifität \n",
    "spezifität = TN / (TN + FP)\n",
    "print(spezifität)"
   ]
  },
  {
   "cell_type": "markdown",
   "id": "2c694a58",
   "metadata": {},
   "source": [
    "4.4 Mein Modell aus Aufgabe 3 funktioniert zu etwa 75 % das heisst das es jedes dritte Mal die Ausgabe richtig ausgibt. Ich denke da Parameter der skill_moves (1-5) am Aussagekräftigsten ist kommt es vor allem auf den Skill_moves Parameter an.  Ich habe nur 75% Prozent die richtige Ausgabe, weil wenn bei Skill_moves 3 mitgegeben wird kommt es nur noch auf das Gewicht und Grösse an und da kommt es teilweise zu Fehlausgaben. Wenn beim Skill_moves Parameter 1,2,4 oder 5 mitgeben wird ist die Vorhersage ziemlich genau."
   ]
  }
 ],
 "metadata": {
  "kernelspec": {
   "display_name": "Python 3 (ipykernel)",
   "language": "python",
   "name": "python3"
  },
  "language_info": {
   "codemirror_mode": {
    "name": "ipython",
    "version": 3
   },
   "file_extension": ".py",
   "mimetype": "text/x-python",
   "name": "python",
   "nbconvert_exporter": "python",
   "pygments_lexer": "ipython3",
   "version": "3.10.2"
  }
 },
 "nbformat": 4,
 "nbformat_minor": 5
}
